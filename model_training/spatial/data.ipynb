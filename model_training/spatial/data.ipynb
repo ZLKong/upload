{
 "cells": [
  {
   "cell_type": "code",
   "execution_count": 8,
   "metadata": {},
   "outputs": [],
   "source": [
    "%load_ext autoreload\n",
    "%autoreload 2"
   ]
  },
  {
   "cell_type": "code",
   "execution_count": 1,
   "metadata": {},
   "outputs": [
    {
     "name": "stdout",
     "output_type": "stream",
     "text": [
      "\u001b[92m→\u001b[0m connected lamindb: anonymous/spatial\n"
     ]
    }
   ],
   "source": [
    "import os\n",
    "import scanpy as sc\n",
    "import lightning as ln\n",
    "\n",
    "os.chdir(\"/n/home08/z_z/mf\")\n",
    "from scdataloader import utils, DataModule\n",
    "from scdataloader import Preprocessor"
   ]
  },
  {
   "cell_type": "code",
   "execution_count": 2,
   "metadata": {},
   "outputs": [],
   "source": [
    "adata = sc.read_10x_h5(\n",
    "    \"dataset/Xenium_Preview_Human_Lung_Cancer_With_Add_on_2_FFPE_outs/cell_feature_matrix.h5\"\n",
    ")\n",
    "adata.var[\"gene_name\"] = adata.var.index\n",
    "adata.var.index = adata.var[\"gene_ids\"]\n",
    "adata.obs[\"organism_ontology_term_id\"] = \"NCBITaxon:9606\"\n",
    "adata.obs[\"assay_ontology_term_id\"] = \"EFO:0009922\"\n",
    "adata.obs[\"self_reported_ethnicity_ontology_term_id\"] = \"HANCESTRO:0005\"\n",
    "adata.obs[\"sex_ontology_term_id\"] = \"PATO:0000384\"\n",
    "adata.obs[\"development_stage_ontology_term_id\"] = \"HsapDv:0000206\"\n",
    "adata.obs[\"donor_id\"] = \"H21.33.001\"\n",
    "adata.obs[\"suspension_typd\"] = \"nucleus\"\n",
    "adata.obs[\"disease_ontology_term_id\"] = \"PATO:0000461\"\n",
    "adata.obs[\"cell_type_ontology_term_id\"] = \"CL:4023017\"\n",
    "adata.obs[\"tissue_ontology_term_id\"] = \"UBERON:0002771\""
   ]
  },
  {
   "cell_type": "code",
   "execution_count": 22,
   "metadata": {},
   "outputs": [
    {
     "name": "stdout",
     "output_type": "stream",
     "text": [
      "\u001b[93m!\u001b[0m data is an AnnData, please use .from_anndata()\n",
      "\u001b[93m!\u001b[0m no run & transform got linked, call `ln.track()` & re-run\n",
      "\u001b[93m!\u001b[0m no run & transform got linked, call `ln.track()` & re-run\n",
      "\u001b[93m!\u001b[0m run input wasn't tracked, call `ln.track()` and re-run\n"
     ]
    },
    {
     "data": {
      "text/plain": [
       "Collection(uid='mXdJzTjuudF1YWyo0000', is_latest=True, name='test', description='test', hash='QQaldBZ_DKljQuwCv7fLLQ', visibility=1, created_by_id=1, created_at=2024-12-12 02:38:52 UTC)"
      ]
     },
     "execution_count": 22,
     "metadata": {},
     "output_type": "execute_result"
    }
   ],
   "source": [
    "import lamindb as ln\n",
    "\n",
    "art = ln.Artifact(adata, description=\"test\")\n",
    "art.save()\n",
    "ln.Collection(art, name=\"test\", description=\"test\").save()"
   ]
  },
  {
   "cell_type": "code",
   "execution_count": null,
   "metadata": {},
   "outputs": [],
   "source": [
    "preprocessor = Preprocessor(\n",
    "    do_postp=False, force_preprocess=True, min_nnz_genes=3, min_valid_genes_id=300\n",
    ")\n",
    "adata = preprocessor(adata)\n",
    "\n",
    "art = ln.Artifact(adata, description=\"test\")\n",
    "art.save()\n",
    "ln.Collection(art, name=\"test\", description=\"test\").save()"
   ]
  },
  {
   "cell_type": "code",
   "execution_count": 2,
   "metadata": {},
   "outputs": [
    {
     "name": "stdout",
     "output_type": "stream",
     "text": [
      "\u001b[93m!\u001b[0m no run & transform got linked, call `ln.track()` & re-run\n",
      "\u001b[93m!\u001b[0m run input wasn't tracked, call `ln.track()` and re-run\n"
     ]
    },
    {
     "name": "stdout",
     "output_type": "stream",
     "text": [
      "won't do any check but we recommend to have your dataset coming from local storage\n",
      "100.0% are aligned\n",
      "fetching gene names from biomart cache\n",
      "reduced the size to 0.6397189879863892\n",
      "{'x': tensor([[26., 23., 16.,  ...,  0.,  0.,  0.],\n",
      "        [ 4.,  4.,  3.,  ...,  0.,  0.,  0.],\n",
      "        [11., 10.,  9.,  ...,  0.,  0.,  0.],\n",
      "        ...,\n",
      "        [ 2.,  2.,  2.,  ...,  0.,  0.,  0.],\n",
      "        [ 4.,  4.,  4.,  ...,  0.,  0.,  0.],\n",
      "        [10.,  9.,  7.,  ...,  0.,  0.,  0.]]), 'genes': tensor([[ 2355,  6126,  8022,  ..., 14216, 67788, 51223],\n",
      "        [28676,  3623,  9964,  ...,  3500, 22359, 63559],\n",
      "        [19800, 11774, 16224,  ..., 69432, 42142, 53854],\n",
      "        ...,\n",
      "        [ 3623,   402, 22576,  ..., 64140, 16437, 19508],\n",
      "        [ 4978,  2919, 15699,  ..., 33464, 33563,  2633],\n",
      "        [17318,  3623,  4942,  ..., 45101, 44592, 33537]], dtype=torch.int32), 'class': tensor([[0],\n",
      "        [0],\n",
      "        [0],\n",
      "        [0],\n",
      "        [0],\n",
      "        [0],\n",
      "        [0],\n",
      "        [0],\n",
      "        [0],\n",
      "        [0],\n",
      "        [0],\n",
      "        [0],\n",
      "        [0],\n",
      "        [0],\n",
      "        [0],\n",
      "        [0],\n",
      "        [0],\n",
      "        [0],\n",
      "        [0],\n",
      "        [0],\n",
      "        [0],\n",
      "        [0],\n",
      "        [0],\n",
      "        [0],\n",
      "        [0],\n",
      "        [0],\n",
      "        [0],\n",
      "        [0],\n",
      "        [0],\n",
      "        [0],\n",
      "        [0],\n",
      "        [0],\n",
      "        [0],\n",
      "        [0],\n",
      "        [0],\n",
      "        [0],\n",
      "        [0],\n",
      "        [0],\n",
      "        [0],\n",
      "        [0],\n",
      "        [0],\n",
      "        [0],\n",
      "        [0],\n",
      "        [0],\n",
      "        [0],\n",
      "        [0],\n",
      "        [0],\n",
      "        [0],\n",
      "        [0],\n",
      "        [0],\n",
      "        [0],\n",
      "        [0],\n",
      "        [0],\n",
      "        [0],\n",
      "        [0],\n",
      "        [0],\n",
      "        [0],\n",
      "        [0],\n",
      "        [0],\n",
      "        [0],\n",
      "        [0],\n",
      "        [0],\n",
      "        [0],\n",
      "        [0]], dtype=torch.int32), 'tp': tensor([0., 0., 0., 0., 0., 0., 0., 0., 0., 0., 0., 0., 0., 0., 0., 0., 0., 0., 0., 0., 0., 0., 0., 0.,\n",
      "        0., 0., 0., 0., 0., 0., 0., 0., 0., 0., 0., 0., 0., 0., 0., 0., 0., 0., 0., 0., 0., 0., 0., 0.,\n",
      "        0., 0., 0., 0., 0., 0., 0., 0., 0., 0., 0., 0., 0., 0., 0., 0.]), 'depth': tensor([389.,  67., 146.,  32., 234., 197., 258., 188.,  59., 304.,  50., 100.,\n",
      "        259., 157., 116.,  55.,  44., 193., 363., 209.,  17., 145.,  58., 192.,\n",
      "        184., 147., 223.,  52.,  39., 132., 164.,  37.,  65.,  90.,  87., 118.,\n",
      "        251.,  14., 206.,  23.,  55.,  64.,  24.,  22.,  98., 124.,  75., 240.,\n",
      "        137.,  59.,  55.,  78., 184.,  30.,  95.,  18., 183.,  60.,  70., 113.,\n",
      "        231.,  49.,  70., 234.])}\n"
     ]
    }
   ],
   "source": [
    "datamodule = DataModule(\n",
    "    collection_name=\"test\",\n",
    "    organisms=[\"NCBITaxon:9606\"],  # organism that we will work on\n",
    "    how=\"most expr\",  # for the collator (most expr genes only will be selected)\n",
    "    max_len=1000,  # only the 1000 most expressed\n",
    "    batch_size=64,\n",
    "    num_workers=1,\n",
    "    validation_split=0.1,\n",
    ")\n",
    "datamodule.setup()\n",
    "for data in datamodule.train_dataloader():\n",
    "    print(data)\n",
    "    break"
   ]
  },
  {
   "cell_type": "code",
   "execution_count": null,
   "metadata": {},
   "outputs": [
    {
     "name": "stdout",
     "output_type": "stream",
     "text": [
      "Index(['ACE', 'ACE2', 'ACKR1', 'ACTR3', 'ADAM17', 'ADAM28', 'ADAMTS1',\n",
      "       'ADGRE5', 'ADGRL4', 'AGER',\n",
      "       ...\n",
      "       'UXT', 'VKORC1', 'VPS28', 'VSIG4', 'VWF', 'WDR83OS', 'WFS1', 'WNT2',\n",
      "       'WSB1', 'WT1'],\n",
      "      dtype='object', length=392)\n",
      "ACE        ENSG00000159640\n",
      "ACE2       ENSG00000130234\n",
      "ACKR1      ENSG00000213088\n",
      "ACTR3      ENSG00000115091\n",
      "ADAM17     ENSG00000151694\n",
      "                ...       \n",
      "WDR83OS    ENSG00000105583\n",
      "WFS1       ENSG00000109501\n",
      "WNT2       ENSG00000105989\n",
      "WSB1       ENSG00000109046\n",
      "WT1        ENSG00000184937\n",
      "Name: gene_ids, Length: 392, dtype: object\n"
     ]
    }
   ],
   "source": [
    "# organism_ontology_term_id\n",
    "# pct_counts_mt\n",
    "print(adata.var.index)\n",
    "print(adata.var.gene_ids)"
   ]
  },
  {
   "cell_type": "code",
   "execution_count": 11,
   "metadata": {},
   "outputs": [
    {
     "data": {
      "text/plain": [
       "AnnData object with n_obs × n_vars = 1496 × 36412\n",
       "    obs: 'assay_ontology_term_id', 'cell_type_ontology_term_id', 'disease_ontology_term_id', 'self_reported_ethnicity_ontology_term_id', 'organism_ontology_term_id', 'sex_ontology_term_id', 'tissue_ontology_term_id', 'is_primary_data', 'Neurotypical reference', 'Class', 'Subclass', 'Supertype', 'Age at death', 'Years of education', 'Cognitive status', 'ADNC', 'Braak stage', 'Thal phase', 'CERAD score', 'APOE4 status', 'Lewy body disease pathology', 'LATE-NC stage', 'Microinfarct pathology', 'Specimen ID', 'donor_id', 'PMI', 'Number of UMIs', 'Genes detected', 'Fraction mitochrondrial UMIs', 'suspension_type', 'development_stage_ontology_term_id', 'Continuous Pseudo-progression Score', 'tissue_type', 'cell_type', 'assay', 'disease', 'organism', 'sex', 'tissue', 'self_reported_ethnicity', 'development_stage', 'observation_joinid'\n",
       "    var: 'feature_is_filtered', 'feature_name', 'feature_reference', 'feature_biotype', 'feature_length', 'feature_type'\n",
       "    uns: 'ADNC_colors', 'APOE4 status_colors', 'Age at death_colors', 'Braak stage_colors', 'CERAD score_colors', 'Cognitive status_colors', 'Great Apes Metadata', 'LATE-NC stage_colors', 'Lewy body disease pathology_colors', 'Microinfarct pathology_colors', 'PMI_colors', 'Subclass_colors', 'Supertype_colors', 'Thal phase_colors', 'UW Clinical Metadata', 'Years of education_colors', 'batch_condition', 'citation', 'default_embedding', 'neighbors', 'schema_reference', 'schema_version', 'sex_ontology_term_id_colors', 'title', 'umap'\n",
       "    obsm: 'X_scVI', 'X_umap'\n",
       "    obsp: 'connectivities', 'distances'"
      ]
     },
     "execution_count": 11,
     "metadata": {},
     "output_type": "execute_result"
    }
   ],
   "source": [
    "adata_cellxgene = sc.read_h5ad(\"/n/home08/z_z/mf/dataset/10x_example.h5ad\")\n",
    "adata_cellxgene"
   ]
  },
  {
   "cell_type": "code",
   "execution_count": 19,
   "metadata": {},
   "outputs": [
    {
     "name": "stdout",
     "output_type": "stream",
     "text": [
      "exp_component_name\n",
      "GGTAATTGTTATTGCC-L8XR_211007_02_F03-1135448413    EFO:0030059\n",
      "CGTGTCTTCTTCGTAT-L8TX_210513_01_A10-1153814239    EFO:0009922\n",
      "TTCCACGTCCCATTTA-L8TX_201023_01_F08-1142430227    EFO:0009922\n",
      "Name: assay_ontology_term_id, dtype: category\n",
      "Categories (2, object): ['EFO:0009922', 'EFO:0030059']\n",
      "exp_component_name\n",
      "GGTAATTGTTATTGCC-L8XR_211007_02_F03-1135448413    HANCESTRO:0005\n",
      "CGTGTCTTCTTCGTAT-L8TX_210513_01_A10-1153814239    HANCESTRO:0005\n",
      "TTCCACGTCCCATTTA-L8TX_201023_01_F08-1142430227    HANCESTRO:0005\n",
      "Name: self_reported_ethnicity_ontology_term_id, dtype: category\n",
      "Categories (4, object): ['HANCESTRO:0005', 'HANCESTRO:0008', 'HANCESTRO:0015', 'HANCESTRO:0013,HANCESTRO:0014']\n",
      "exp_component_name\n",
      "GGTAATTGTTATTGCC-L8XR_211007_02_F03-1135448413    PATO:0000384\n",
      "CGTGTCTTCTTCGTAT-L8TX_210513_01_A10-1153814239    PATO:0000383\n",
      "TTCCACGTCCCATTTA-L8TX_201023_01_F08-1142430227    PATO:0000383\n",
      "Name: sex_ontology_term_id, dtype: category\n",
      "Categories (2, object): ['PATO:0000383', 'PATO:0000384']\n",
      "exp_component_name\n",
      "GGTAATTGTTATTGCC-L8XR_211007_02_F03-1135448413    HsapDv:0000206\n",
      "CGTGTCTTCTTCGTAT-L8TX_210513_01_A10-1153814239    HsapDv:0000206\n",
      "TTCCACGTCCCATTTA-L8TX_201023_01_F08-1142430227    HsapDv:0000095\n",
      "Name: development_stage_ontology_term_id, dtype: category\n",
      "Categories (24, object): ['HsapDv:0000095', 'HsapDv:0000123', 'HsapDv:0000137', 'HsapDv:0000144', ..., 'HsapDv:0000213', 'HsapDv:0000214', 'HsapDv:0000215', 'HsapDv:0000258']\n",
      "exp_component_name\n",
      "GGTAATTGTTATTGCC-L8XR_211007_02_F03-1135448413    H21.33.001\n",
      "CGTGTCTTCTTCGTAT-L8TX_210513_01_A10-1153814239    H19.33.004\n",
      "TTCCACGTCCCATTTA-L8TX_201023_01_F08-1142430227    H20.33.016\n",
      "Name: donor_id, dtype: category\n",
      "Categories (84, object): ['H18.30.001', 'H18.30.002', 'H19.30.001', 'H19.30.002', ..., 'H21.33.045', 'H21.33.046', 'H21.33.047', 'H200.1023']\n",
      "exp_component_name\n",
      "GGTAATTGTTATTGCC-L8XR_211007_02_F03-1135448413    nucleus\n",
      "CGTGTCTTCTTCGTAT-L8TX_210513_01_A10-1153814239    nucleus\n",
      "TTCCACGTCCCATTTA-L8TX_201023_01_F08-1142430227    nucleus\n",
      "Name: suspension_type, dtype: category\n",
      "Categories (1, object): ['nucleus']\n",
      "exp_component_name\n",
      "GGTAATTGTTATTGCC-L8XR_211007_02_F03-1135448413    NCBITaxon:9606\n",
      "CGTGTCTTCTTCGTAT-L8TX_210513_01_A10-1153814239    NCBITaxon:9606\n",
      "TTCCACGTCCCATTTA-L8TX_201023_01_F08-1142430227    NCBITaxon:9606\n",
      "Name: organism_ontology_term_id, dtype: category\n",
      "Categories (1, object): ['NCBITaxon:9606']\n",
      "exp_component_name\n",
      "GGTAATTGTTATTGCC-L8XR_211007_02_F03-1135448413    MONDO:0001627\n",
      "CGTGTCTTCTTCGTAT-L8TX_210513_01_A10-1153814239     PATO:0000461\n",
      "TTCCACGTCCCATTTA-L8TX_201023_01_F08-1142430227    MONDO:0001627\n",
      "Name: disease_ontology_term_id, dtype: category\n",
      "Categories (2, object): ['MONDO:0001627', 'PATO:0000461']\n",
      "exp_component_name\n",
      "GGTAATTGTTATTGCC-L8XR_211007_02_F03-1135448413    CL:4023017\n",
      "CGTGTCTTCTTCGTAT-L8TX_210513_01_A10-1153814239    CL:4023017\n",
      "TTCCACGTCCCATTTA-L8TX_201023_01_F08-1142430227    CL:4023017\n",
      "Name: cell_type_ontology_term_id, dtype: category\n",
      "Categories (1, object): ['CL:4023017']\n",
      "exp_component_name\n",
      "GGTAATTGTTATTGCC-L8XR_211007_02_F03-1135448413    UBERON:0002771\n",
      "CGTGTCTTCTTCGTAT-L8TX_210513_01_A10-1153814239    UBERON:0002771\n",
      "TTCCACGTCCCATTTA-L8TX_201023_01_F08-1142430227    UBERON:0002771\n",
      "Name: tissue_ontology_term_id, dtype: category\n",
      "Categories (1, object): ['UBERON:0002771']\n"
     ]
    }
   ],
   "source": [
    "print(adata_cellxgene.obs.assay_ontology_term_id[:3])\n",
    "print(adata_cellxgene.obs.self_reported_ethnicity_ontology_term_id[:3])\n",
    "print(adata_cellxgene.obs.sex_ontology_term_id[:3])\n",
    "print(adata_cellxgene.obs.development_stage_ontology_term_id[:3])\n",
    "print(adata_cellxgene.obs.donor_id[:3])\n",
    "print(adata_cellxgene.obs.suspension_type[:3])\n",
    "print(adata_cellxgene.obs.organism_ontology_term_id[:3])\n",
    "print(adata_cellxgene.obs.disease_ontology_term_id[:3])\n",
    "print(adata_cellxgene.obs.cell_type_ontology_term_id[:3])\n",
    "print(adata_cellxgene.obs.tissue_ontology_term_id[:3])"
   ]
  }
 ],
 "metadata": {
  "kernelspec": {
   "display_name": "scprint",
   "language": "python",
   "name": "python3"
  },
  "language_info": {
   "codemirror_mode": {
    "name": "ipython",
    "version": 3
   },
   "file_extension": ".py",
   "mimetype": "text/x-python",
   "name": "python",
   "nbconvert_exporter": "python",
   "pygments_lexer": "ipython3",
   "version": "3.10.15"
  }
 },
 "nbformat": 4,
 "nbformat_minor": 2
}
